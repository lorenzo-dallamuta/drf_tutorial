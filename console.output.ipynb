{
 "cells": [
  {
   "cell_type": "code",
   "execution_count": 1,
   "id": "1ddd0ef6",
   "metadata": {},
   "outputs": [],
   "source": [
    "import os\n",
    "os.environ[\"DJANGO_ALLOW_ASYNC_UNSAFE\"] = \"true\""
   ]
  },
  {
   "cell_type": "code",
   "execution_count": 2,
   "id": "9f157da2",
   "metadata": {},
   "outputs": [],
   "source": [
    "from snippets.models import Snippet\n",
    "from snippets.serializers import SnippetSerializer\n",
    "from rest_framework.renderers import JSONRenderer\n",
    "from rest_framework.parsers import JSONParser"
   ]
  },
  {
   "cell_type": "code",
   "execution_count": 3,
   "id": "f7e8abc3",
   "metadata": {},
   "outputs": [],
   "source": [
    "snippet = Snippet(code='foo = \"bar\"\\n')\n",
    "snippet.save()\n",
    "\n",
    "snippet = Snippet(code='print(\"hello, world\")\\n')\n",
    "snippet.save()"
   ]
  },
  {
   "cell_type": "code",
   "execution_count": 4,
   "id": "012b121a",
   "metadata": {},
   "outputs": [
    {
     "data": {
      "text/plain": [
       "{'id': 2, 'title': '', 'code': 'print(\"hello, world\")\\n', 'linenos': False, 'language': 'python', 'style': 'friendly'}"
      ]
     },
     "execution_count": 4,
     "metadata": {},
     "output_type": "execute_result"
    }
   ],
   "source": [
    "serializer = SnippetSerializer(snippet)\n",
    "serializer.data"
   ]
  },
  {
   "cell_type": "code",
   "execution_count": 5,
   "id": "4ccf4994",
   "metadata": {},
   "outputs": [
    {
     "data": {
      "text/plain": [
       "b'{\"id\":2,\"title\":\"\",\"code\":\"print(\\\\\"hello, world\\\\\")\\\\n\",\"linenos\":false,\"language\":\"python\",\"style\":\"friendly\"}'"
      ]
     },
     "execution_count": 5,
     "metadata": {},
     "output_type": "execute_result"
    }
   ],
   "source": [
    "content = JSONRenderer().render(serializer.data)\n",
    "content"
   ]
  },
  {
   "cell_type": "code",
   "execution_count": 6,
   "id": "70751c4d",
   "metadata": {},
   "outputs": [],
   "source": [
    "import io"
   ]
  },
  {
   "cell_type": "code",
   "execution_count": 7,
   "id": "12e14e5a",
   "metadata": {},
   "outputs": [],
   "source": [
    "stream = io.BytesIO(content)\n",
    "data = JSONParser().parse(stream)"
   ]
  },
  {
   "cell_type": "code",
   "execution_count": 8,
   "id": "176021f5",
   "metadata": {},
   "outputs": [
    {
     "data": {
      "text/plain": [
       "<Snippet: Snippet object (3)>"
      ]
     },
     "execution_count": 8,
     "metadata": {},
     "output_type": "execute_result"
    }
   ],
   "source": [
    "serializer = SnippetSerializer(data=data)\n",
    "serializer.is_valid()\n",
    "serializer.validated_data\n",
    "serializer.save()"
   ]
  },
  {
   "cell_type": "code",
   "execution_count": 9,
   "id": "6fe7eb8b",
   "metadata": {},
   "outputs": [
    {
     "data": {
      "text/plain": [
       "[OrderedDict([('id', 1), ('title', ''), ('code', 'foo = \"bar\"\\n'), ('linenos', False), ('language', 'python'), ('style', 'friendly')]), OrderedDict([('id', 2), ('title', ''), ('code', 'print(\"hello, world\")\\n'), ('linenos', False), ('language', 'python'), ('style', 'friendly')]), OrderedDict([('id', 3), ('title', ''), ('code', 'print(\"hello, world\")'), ('linenos', False), ('language', 'python'), ('style', 'friendly')])]"
      ]
     },
     "execution_count": 9,
     "metadata": {},
     "output_type": "execute_result"
    }
   ],
   "source": [
    "serializer = SnippetSerializer(Snippet.objects.all(), many=True)\n",
    "serializer.data"
   ]
  },
  {
   "cell_type": "code",
   "execution_count": null,
   "id": "bb580c01",
   "metadata": {},
   "outputs": [],
   "source": []
  }
 ],
 "metadata": {
  "kernelspec": {
   "display_name": "Django Shell-Plus",
   "language": "python",
   "name": "django_extensions"
  },
  "language_info": {
   "codemirror_mode": {
    "name": "ipython",
    "version": 3
   },
   "file_extension": ".py",
   "mimetype": "text/x-python",
   "name": "python",
   "nbconvert_exporter": "python",
   "pygments_lexer": "ipython3",
   "version": "3.6.13"
  }
 },
 "nbformat": 4,
 "nbformat_minor": 5
}
